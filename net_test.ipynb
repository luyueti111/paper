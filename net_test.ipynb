{
 "cells": [
  {
   "cell_type": "code",
   "execution_count": 325,
   "metadata": {
    "collapsed": true
   },
   "outputs": [
    {
     "name": "stdout",
     "output_type": "stream",
     "text": [
      "cuda:0\n"
     ]
    }
   ],
   "source": [
    "import torch\n",
    "from PetDataset import PetDataset\n",
    "import torchvision.transforms as transforms\n",
    "\n",
    "device = torch.device(\"cuda:0\" if torch.cuda.is_available() else \"cpu\")\n",
    "print(device)\n",
    "PSIZE=256"
   ]
  },
  {
   "cell_type": "code",
   "execution_count": 326,
   "outputs": [
    {
     "data": {
      "text/plain": "tensor([0.6300, 0.4200, 0.2800, 0.1500], dtype=torch.float64)"
     },
     "execution_count": 326,
     "metadata": {},
     "output_type": "execute_result"
    }
   ],
   "source": [
    "transform = transforms.Compose(\n",
    "    [transforms.ToTensor(),\n",
    "     transforms.Resize((PSIZE, PSIZE)),\n",
    "     transforms.Normalize((0.5, 0.5, 0.5), (0.5, 0.5, 0.5))])\n",
    "\n",
    "dataset = PetDataset(data_transform=transform)\n",
    "dataloader = torch.utils.data.DataLoader(dataset, batch_size=4)\n",
    "\n",
    "dataiter = iter(dataloader)\n",
    "\n",
    "images, labels = dataiter.next()\n",
    "\n",
    "labels\n"
   ],
   "metadata": {
    "collapsed": false,
    "pycharm": {
     "name": "#%%\n"
    }
   }
  },
  {
   "cell_type": "code",
   "execution_count": 327,
   "outputs": [
    {
     "name": "stdout",
     "output_type": "stream",
     "text": [
      "60\n",
      "30\n",
      "26\n",
      "13\n"
     ]
    }
   ],
   "source": [
    "def out_size(h,k, p=0,dd=1,s=1):\n",
    "    return int((h+2*p-dd*(k-1)-1)/s + 1)\n",
    "a=out_size(64, 5)\n",
    "print(a)\n",
    "b=out_size(a, 2, 0, 1, 2)\n",
    "print(b)\n",
    "c=out_size(b, 5)\n",
    "print(c)\n",
    "d=out_size(c,2,0,1,2)\n",
    "print(d)"
   ],
   "metadata": {
    "collapsed": false,
    "pycharm": {
     "name": "#%%\n"
    }
   }
  },
  {
   "cell_type": "code",
   "execution_count": 328,
   "outputs": [],
   "source": [
    "import torch.nn as nn\n",
    "import torch.nn.functional as F\n",
    "\n",
    "class Net(nn.Module):\n",
    "    def __init__(self):\n",
    "        super(Net, self).__init__()\n",
    "        self.conv1 = nn.Conv2d(3, 6, 5)\n",
    "        self.a = out_size(PSIZE, 5)\n",
    "        self.pool = nn.MaxPool2d(2, 2)\n",
    "        self.b = out_size(self.a, 2, 0, 1, 2)\n",
    "\n",
    "        self.conv2 = nn.Conv2d(6, 16, 5)\n",
    "        self.c = out_size(self.b, 5)\n",
    "        self.d = out_size(self.c, 2, 0, 1, 2)\n",
    "\n",
    "        # self.conv3 = nn.Conv2d(16, 5, 5)\n",
    "        # self.e = out_size(self.d, 5)\n",
    "        # self.f = out_size(self.e, 2, 0, 1, 2)\n",
    "\n",
    "        self.fc1 = nn.Linear(16 * self.d * self.d, 120)\n",
    "        self.fc2 = nn.Linear(120, 84)\n",
    "        self.fc3 = nn.Linear(84, 20)\n",
    "        self.fc4 = nn.Linear(20, 1)\n",
    "\n",
    "    def forward(self, x):\n",
    "        x = self.pool(F.relu(self.conv1(x)))\n",
    "        x = self.pool(F.relu(self.conv2(x)))\n",
    "        # x = self.pool(F.relu(self.conv3(x)))\n",
    "        x = x.view(-1, 16 * self.d * self.d)\n",
    "        x = F.relu(self.fc1(x))\n",
    "        x = F.relu(self.fc2(x))\n",
    "        x = F.relu(self.fc3(x))\n",
    "        x = torch.sigmoid(self.fc4(x))\n",
    "        # x = (100*x.view(-1)).int()/100\n",
    "        # x.requires_grad=True\n",
    "        return x.view(-1)"
   ],
   "metadata": {
    "collapsed": false,
    "pycharm": {
     "name": "#%%\n"
    }
   }
  },
  {
   "cell_type": "code",
   "execution_count": 329,
   "outputs": [
    {
     "name": "stdout",
     "output_type": "stream",
     "text": [
      "[1,   200] loss: 0.046\n",
      "[1,   400] loss: 0.050\n",
      "[1,   600] loss: 0.046\n",
      "[1,   800] loss: 0.046\n",
      "[1,  1000] loss: 0.039\n",
      "[1,  1200] loss: 0.043\n",
      "[1,  1400] loss: 0.048\n",
      "[1,  1600] loss: 0.040\n",
      "[1,  1800] loss: 0.046\n",
      "[1,  2000] loss: 0.038\n",
      "[1,  2200] loss: 0.042\n",
      "[1,  2400] loss: 0.043\n",
      "[2,   200] loss: 0.041\n",
      "[2,   400] loss: 0.047\n",
      "[2,   600] loss: 0.045\n",
      "[2,   800] loss: 0.045\n",
      "[2,  1000] loss: 0.037\n",
      "[2,  1200] loss: 0.041\n",
      "[2,  1400] loss: 0.047\n",
      "[2,  1600] loss: 0.040\n",
      "[2,  1800] loss: 0.045\n",
      "[2,  2000] loss: 0.038\n",
      "[2,  2200] loss: 0.042\n",
      "[2,  2400] loss: 0.042\n",
      "[3,   200] loss: 0.040\n",
      "[3,   400] loss: 0.047\n",
      "[3,   600] loss: 0.044\n",
      "[3,   800] loss: 0.045\n",
      "[3,  1000] loss: 0.037\n",
      "[3,  1200] loss: 0.038\n",
      "[3,  1400] loss: 0.044\n",
      "[3,  1600] loss: 0.036\n",
      "[3,  1800] loss: 0.040\n",
      "[3,  2000] loss: 0.032\n",
      "[3,  2200] loss: 0.040\n",
      "[3,  2400] loss: 0.039\n",
      "[4,   200] loss: 0.037\n",
      "[4,   400] loss: 0.042\n",
      "[4,   600] loss: 0.037\n",
      "[4,   800] loss: 0.037\n",
      "[4,  1000] loss: 0.033\n",
      "[4,  1200] loss: 0.032\n",
      "[4,  1400] loss: 0.033\n",
      "[4,  1600] loss: 0.029\n",
      "[4,  1800] loss: 0.028\n",
      "[4,  2000] loss: 0.022\n",
      "[4,  2200] loss: 0.030\n",
      "[4,  2400] loss: 0.025\n",
      "[5,   200] loss: 0.028\n",
      "[5,   400] loss: 0.025\n",
      "[5,   600] loss: 0.025\n",
      "[5,   800] loss: 0.022\n",
      "[5,  1000] loss: 0.023\n",
      "[5,  1200] loss: 0.017\n",
      "[5,  1400] loss: 0.016\n",
      "[5,  1600] loss: 0.013\n",
      "[5,  1800] loss: 0.017\n",
      "[5,  2000] loss: 0.013\n",
      "[5,  2200] loss: 0.017\n",
      "[5,  2400] loss: 0.014\n",
      "[6,   200] loss: 0.015\n",
      "[6,   400] loss: 0.016\n",
      "[6,   600] loss: 0.014\n",
      "[6,   800] loss: 0.014\n",
      "[6,  1000] loss: 0.013\n",
      "[6,  1200] loss: 0.011\n",
      "[6,  1400] loss: 0.009\n",
      "[6,  1600] loss: 0.009\n",
      "[6,  1800] loss: 0.008\n",
      "[6,  2000] loss: 0.008\n",
      "[6,  2200] loss: 0.011\n",
      "[6,  2400] loss: 0.009\n",
      "[7,   200] loss: 0.009\n",
      "[7,   400] loss: 0.010\n",
      "[7,   600] loss: 0.008\n",
      "[7,   800] loss: 0.009\n",
      "[7,  1000] loss: 0.009\n",
      "[7,  1200] loss: 0.008\n",
      "[7,  1400] loss: 0.008\n",
      "[7,  1600] loss: 0.006\n",
      "[7,  1800] loss: 0.006\n",
      "[7,  2000] loss: 0.006\n",
      "[7,  2200] loss: 0.008\n",
      "[7,  2400] loss: 0.007\n",
      "[8,   200] loss: 0.006\n",
      "[8,   400] loss: 0.006\n",
      "[8,   600] loss: 0.007\n",
      "[8,   800] loss: 0.007\n",
      "[8,  1000] loss: 0.008\n",
      "[8,  1200] loss: 0.006\n",
      "[8,  1400] loss: 0.006\n",
      "[8,  1600] loss: 0.005\n",
      "[8,  1800] loss: 0.005\n",
      "[8,  2000] loss: 0.005\n",
      "[8,  2200] loss: 0.007\n",
      "[8,  2400] loss: 0.007\n",
      "[9,   200] loss: 0.006\n",
      "[9,   400] loss: 0.006\n",
      "[9,   600] loss: 0.005\n",
      "[9,   800] loss: 0.005\n",
      "[9,  1000] loss: 0.006\n",
      "[9,  1200] loss: 0.005\n",
      "[9,  1400] loss: 0.006\n",
      "[9,  1600] loss: 0.004\n",
      "[9,  1800] loss: 0.004\n",
      "[9,  2000] loss: 0.003\n",
      "[9,  2200] loss: 0.004\n",
      "[9,  2400] loss: 0.005\n",
      "[10,   200] loss: 0.004\n",
      "[10,   400] loss: 0.005\n",
      "[10,   600] loss: 0.005\n",
      "[10,   800] loss: 0.005\n",
      "[10,  1000] loss: 0.005\n",
      "[10,  1200] loss: 0.004\n",
      "[10,  1400] loss: 0.004\n",
      "[10,  1600] loss: 0.003\n",
      "[10,  1800] loss: 0.003\n",
      "[10,  2000] loss: 0.003\n",
      "[10,  2200] loss: 0.005\n",
      "[10,  2400] loss: 0.004\n",
      "Finished Training\n"
     ]
    }
   ],
   "source": [
    "import torch.optim as optim\n",
    "net = Net()\n",
    "net.to(device)\n",
    "criterion = nn.MSELoss()\n",
    "# optimizer = optim.SGD(net.parameters(), lr=0.001, momentum=0.9)\n",
    "optimizer = optim.Adam(net.parameters(), lr=0.001, betas=(0.9, 0.999), eps=1e-08, weight_decay=0, amsgrad=False)\n",
    "for epoch in range(10):\n",
    "\n",
    "    running_loss = 0.0\n",
    "    for i, data in enumerate(dataloader, 0):\n",
    "        inputs, labels = data[0].to(device), data[1].to(device)\n",
    "        # zero the parameter gradients\n",
    "        optimizer.zero_grad()\n",
    "\n",
    "        outputs = net(inputs)\n",
    "        loss = criterion(outputs, labels.float())\n",
    "        loss.backward()\n",
    "        optimizer.step()\n",
    "\n",
    "        running_loss += loss.item()\n",
    "        if i % 200 == 199:    # print every 200 mini-batches\n",
    "            print('[%d, %5d] loss: %.3f' %\n",
    "                  (epoch + 1, i + 1, running_loss / 200))\n",
    "            running_loss = 0.0\n",
    "\n",
    "print('Finished Training')\n"
   ],
   "metadata": {
    "collapsed": false,
    "pycharm": {
     "name": "#%%\n"
    }
   }
  },
  {
   "cell_type": "code",
   "execution_count": 330,
   "outputs": [],
   "source": [
    "correct = 0\n",
    "total = 0\n",
    "iter_i = 0\n",
    "\n",
    "with torch.no_grad():\n",
    "    for data in dataloader:\n",
    "        inputs, _ = data[0].to(device), data[1].to(device)\n",
    "        outputs = net(inputs)\n",
    "\n",
    "        if iter_i == 0:\n",
    "            d = outputs\n",
    "        else:\n",
    "            d = torch.cat((d, outputs), 0)\n",
    "\n",
    "        iter_i += 1"
   ],
   "metadata": {
    "collapsed": false,
    "pycharm": {
     "name": "#%%\n"
    }
   }
  },
  {
   "cell_type": "code",
   "execution_count": 1,
   "outputs": [
    {
     "ename": "NameError",
     "evalue": "name 'd' is not defined",
     "output_type": "error",
     "traceback": [
      "\u001B[1;31m---------------------------------------------------------------------------\u001B[0m",
      "\u001B[1;31mNameError\u001B[0m                                 Traceback (most recent call last)",
      "\u001B[1;32m~\\AppData\\Local\\Temp/ipykernel_12596/49821752.py\u001B[0m in \u001B[0;36m<module>\u001B[1;34m\u001B[0m\n\u001B[0;32m      3\u001B[0m \u001B[1;33m\u001B[0m\u001B[0m\n\u001B[0;32m      4\u001B[0m \u001B[0mdf\u001B[0m \u001B[1;33m=\u001B[0m \u001B[0mpd\u001B[0m\u001B[1;33m.\u001B[0m\u001B[0mread_csv\u001B[0m\u001B[1;33m(\u001B[0m\u001B[1;34m\"petfinder-pawpularity-score/train.csv\"\u001B[0m\u001B[1;33m)\u001B[0m\u001B[1;33m\u001B[0m\u001B[1;33m\u001B[0m\u001B[0m\n\u001B[1;32m----> 5\u001B[1;33m \u001B[0mplt\u001B[0m\u001B[1;33m.\u001B[0m\u001B[0mscatter\u001B[0m\u001B[1;33m(\u001B[0m\u001B[0mdf\u001B[0m\u001B[1;33m[\u001B[0m\u001B[1;34m\"Pawpularity\"\u001B[0m\u001B[1;33m]\u001B[0m\u001B[1;33m/\u001B[0m\u001B[1;36m100\u001B[0m\u001B[1;33m,\u001B[0m \u001B[0md\u001B[0m\u001B[1;33m.\u001B[0m\u001B[0mcpu\u001B[0m\u001B[1;33m(\u001B[0m\u001B[1;33m)\u001B[0m\u001B[1;33m.\u001B[0m\u001B[0mnumpy\u001B[0m\u001B[1;33m(\u001B[0m\u001B[1;33m)\u001B[0m\u001B[1;33m,\u001B[0m \u001B[0malpha\u001B[0m\u001B[1;33m=\u001B[0m\u001B[1;36m0.1\u001B[0m\u001B[1;33m)\u001B[0m\u001B[1;33m\u001B[0m\u001B[1;33m\u001B[0m\u001B[0m\n\u001B[0m\u001B[0;32m      6\u001B[0m \u001B[0mplt\u001B[0m\u001B[1;33m.\u001B[0m\u001B[0mplot\u001B[0m\u001B[1;33m(\u001B[0m\u001B[1;33m[\u001B[0m\u001B[1;36m0\u001B[0m\u001B[1;33m,\u001B[0m\u001B[1;36m1\u001B[0m\u001B[1;33m]\u001B[0m\u001B[1;33m,\u001B[0m\u001B[1;33m[\u001B[0m\u001B[1;36m0\u001B[0m\u001B[1;33m,\u001B[0m\u001B[1;36m1\u001B[0m\u001B[1;33m]\u001B[0m\u001B[1;33m,\u001B[0m\u001B[0mc\u001B[0m\u001B[1;33m=\u001B[0m\u001B[1;34m'red'\u001B[0m\u001B[1;33m,\u001B[0m\u001B[0mls\u001B[0m\u001B[1;33m=\u001B[0m\u001B[1;34m'-.-'\u001B[0m\u001B[1;33m)\u001B[0m\u001B[1;33m\u001B[0m\u001B[1;33m\u001B[0m\u001B[0m\n",
      "\u001B[1;31mNameError\u001B[0m: name 'd' is not defined"
     ]
    }
   ],
   "source": [
    "import pandas as pd\n",
    "import matplotlib.pyplot as plt\n",
    "\n",
    "df = pd.read_csv(\"petfinder-pawpularity-score/train.csv\")\n",
    "plt.scatter(df[\"Pawpularity\"]/100, d.cpu().numpy(), alpha=0.1)\n",
    "plt.plot([0,1],[0,1],c='red',ls='-.-')"
   ],
   "metadata": {
    "collapsed": false,
    "pycharm": {
     "name": "#%%\n"
    }
   }
  }
 ],
 "metadata": {
  "kernelspec": {
   "display_name": "Python 3",
   "language": "python",
   "name": "python3"
  },
  "language_info": {
   "codemirror_mode": {
    "name": "ipython",
    "version": 2
   },
   "file_extension": ".py",
   "mimetype": "text/x-python",
   "name": "python",
   "nbconvert_exporter": "python",
   "pygments_lexer": "ipython2",
   "version": "2.7.6"
  }
 },
 "nbformat": 4,
 "nbformat_minor": 0
}