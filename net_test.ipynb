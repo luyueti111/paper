{
 "cells": [
  {
   "cell_type": "code",
   "execution_count": 44,
   "metadata": {
    "collapsed": true
   },
   "outputs": [
    {
     "name": "stdout",
     "output_type": "stream",
     "text": [
      "cuda:0\n"
     ]
    }
   ],
   "source": [
    "import torch\n",
    "from PetDataset import PetDataset\n",
    "import torchvision\n",
    "from PIL import Image\n",
    "import os\n",
    "import torchvision.transforms as transforms\n",
    "\n",
    "device = torch.device(\"cuda:0\" if torch.cuda.is_available() else \"cpu\")\n",
    "print(device)"
   ]
  },
  {
   "cell_type": "code",
   "execution_count": 45,
   "outputs": [
    {
     "data": {
      "text/plain": "tensor([0.6300, 0.4200, 0.2800, 0.1500], dtype=torch.float64)"
     },
     "execution_count": 45,
     "metadata": {},
     "output_type": "execute_result"
    }
   ],
   "source": [
    "transform = transforms.Compose(\n",
    "    [transforms.ToTensor(),\n",
    "     transforms.Resize((32,32)),\n",
    "     transforms.Normalize((0.5, 0.5, 0.5), (0.5, 0.5, 0.5))])\n",
    "\n",
    "dataset = PetDataset(data_transform=transform)\n",
    "dataloader = torch.utils.data.DataLoader(dataset, batch_size=4)\n",
    "\n",
    "dataiter = iter(dataloader)\n",
    "\n",
    "images, labels = dataiter.next()\n",
    "\n",
    "labels"
   ],
   "metadata": {
    "collapsed": false,
    "pycharm": {
     "name": "#%%\n"
    }
   }
  },
  {
   "cell_type": "code",
   "execution_count": 46,
   "outputs": [],
   "source": [
    "import torch.nn as nn\n",
    "import torch.nn.functional as F\n",
    "\n",
    "class Net(nn.Module):\n",
    "    def __init__(self):\n",
    "        super(Net, self).__init__()\n",
    "        self.conv1 = nn.Conv2d(3, 6, 5)\n",
    "        self.pool = nn.MaxPool2d(2, 2)\n",
    "        self.conv2 = nn.Conv2d(6, 16, 5)\n",
    "        self.fc1 = nn.Linear(16 * 5 * 5, 120)\n",
    "        self.fc2 = nn.Linear(120, 84)\n",
    "        self.fc3 = nn.Linear(84, 1)\n",
    "\n",
    "    def forward(self, x):\n",
    "        x = self.pool(F.relu(self.conv1(x)))\n",
    "        x = self.pool(F.relu(self.conv2(x)))\n",
    "        x = x.view(-1, 16 * 5 * 5)\n",
    "        x = F.relu(self.fc1(x))\n",
    "        x = F.relu(self.fc2(x))\n",
    "        x = torch.tanh(self.fc3(x))\n",
    "        return x.view(-1)"
   ],
   "metadata": {
    "collapsed": false,
    "pycharm": {
     "name": "#%%\n"
    }
   }
  },
  {
   "cell_type": "code",
   "execution_count": null,
   "outputs": [
    {
     "name": "stdout",
     "output_type": "stream",
     "text": [
      "[1,   200] loss: 0.090\n",
      "[1,   400] loss: 0.051\n",
      "[1,   600] loss: 0.046\n",
      "[1,   800] loss: 0.046\n",
      "[1,  1000] loss: 0.038\n",
      "[1,  1200] loss: 0.041\n",
      "[1,  1400] loss: 0.047\n",
      "[1,  1600] loss: 0.040\n",
      "[1,  1800] loss: 0.046\n",
      "[1,  2000] loss: 0.039\n",
      "[1,  2200] loss: 0.042\n",
      "[1,  2400] loss: 0.042\n",
      "[2,   200] loss: 0.041\n",
      "[2,   400] loss: 0.047\n",
      "[2,   600] loss: 0.045\n",
      "[2,   800] loss: 0.045\n",
      "[2,  1000] loss: 0.038\n",
      "[2,  1200] loss: 0.041\n",
      "[2,  1400] loss: 0.047\n",
      "[2,  1600] loss: 0.040\n",
      "[2,  1800] loss: 0.045\n",
      "[2,  2000] loss: 0.039\n",
      "[2,  2200] loss: 0.042\n",
      "[2,  2400] loss: 0.042\n",
      "[3,   200] loss: 0.041\n",
      "[3,   400] loss: 0.047\n",
      "[3,   600] loss: 0.045\n",
      "[3,   800] loss: 0.045\n",
      "[3,  1000] loss: 0.038\n",
      "[3,  1200] loss: 0.041\n",
      "[3,  1400] loss: 0.047\n",
      "[3,  1600] loss: 0.040\n",
      "[3,  1800] loss: 0.045\n",
      "[3,  2000] loss: 0.038\n",
      "[3,  2200] loss: 0.042\n",
      "[3,  2400] loss: 0.042\n",
      "[4,   200] loss: 0.041\n",
      "[4,   400] loss: 0.047\n",
      "[4,   600] loss: 0.045\n",
      "[4,   800] loss: 0.045\n",
      "[4,  1000] loss: 0.038\n",
      "[4,  1200] loss: 0.041\n",
      "[4,  1400] loss: 0.047\n",
      "[4,  1600] loss: 0.040\n",
      "[4,  1800] loss: 0.045\n",
      "[4,  2000] loss: 0.038\n",
      "[4,  2200] loss: 0.042\n",
      "[4,  2400] loss: 0.042\n",
      "[5,   200] loss: 0.041\n",
      "[5,   400] loss: 0.047\n",
      "[5,   600] loss: 0.045\n",
      "[5,   800] loss: 0.045\n",
      "[5,  1000] loss: 0.038\n",
      "[5,  1200] loss: 0.041\n",
      "[5,  1400] loss: 0.047\n",
      "[5,  1600] loss: 0.040\n",
      "[5,  1800] loss: 0.045\n",
      "[5,  2000] loss: 0.038\n",
      "[5,  2200] loss: 0.042\n",
      "[5,  2400] loss: 0.042\n",
      "[6,   200] loss: 0.041\n",
      "[6,   400] loss: 0.047\n",
      "[6,   600] loss: 0.045\n",
      "[6,   800] loss: 0.045\n",
      "[6,  1000] loss: 0.037\n",
      "[6,  1200] loss: 0.041\n",
      "[6,  1400] loss: 0.047\n",
      "[6,  1600] loss: 0.040\n",
      "[6,  1800] loss: 0.045\n",
      "[6,  2000] loss: 0.038\n",
      "[6,  2200] loss: 0.042\n",
      "[6,  2400] loss: 0.042\n",
      "[7,   200] loss: 0.041\n",
      "[7,   400] loss: 0.047\n",
      "[7,   600] loss: 0.045\n",
      "[7,   800] loss: 0.045\n",
      "[7,  1000] loss: 0.037\n",
      "[7,  1200] loss: 0.041\n",
      "[7,  1400] loss: 0.047\n",
      "[7,  1600] loss: 0.040\n",
      "[7,  1800] loss: 0.045\n",
      "[7,  2000] loss: 0.038\n",
      "[7,  2200] loss: 0.042\n",
      "[7,  2400] loss: 0.042\n",
      "[8,   200] loss: 0.041\n",
      "[8,   400] loss: 0.047\n",
      "[8,   600] loss: 0.045\n",
      "[8,   800] loss: 0.045\n",
      "[8,  1000] loss: 0.037\n",
      "[8,  1200] loss: 0.041\n",
      "[8,  1400] loss: 0.047\n",
      "[8,  1600] loss: 0.040\n",
      "[8,  1800] loss: 0.045\n",
      "[8,  2000] loss: 0.038\n",
      "[8,  2200] loss: 0.042\n",
      "[8,  2400] loss: 0.042\n",
      "[9,   200] loss: 0.041\n",
      "[9,   400] loss: 0.047\n",
      "[9,   600] loss: 0.045\n",
      "[9,   800] loss: 0.045\n"
     ]
    }
   ],
   "source": [
    "import torch.optim as optim\n",
    "net = Net()\n",
    "criterion = nn.MSELoss()\n",
    "optimizer = optim.SGD(net.parameters(), lr=0.001, momentum=0.5)\n",
    "\n",
    "for epoch in range(10):  # loop over the dataset multiple times\n",
    "\n",
    "    running_loss = 0.0\n",
    "    for i, data in enumerate(dataloader, 0):\n",
    "        # get the inputs; data is a list of [inputs, labels]\n",
    "        inputs, labels = data\n",
    "\n",
    "        # zero the parameter gradients\n",
    "        optimizer.zero_grad()\n",
    "\n",
    "        # forward + backward + optimize\n",
    "        outputs = net(inputs)\n",
    "        loss = criterion(outputs, labels.float())\n",
    "        loss.backward()\n",
    "        optimizer.step()\n",
    "\n",
    "        # print statistics\n",
    "        running_loss += loss.item()\n",
    "        if i % 200 == 199:    # print every 2000 mini-batches\n",
    "            print('[%d, %5d] loss: %.3f' %\n",
    "                  (epoch + 1, i + 1, running_loss / 200))\n",
    "            running_loss = 0.0\n",
    "\n",
    "print('Finished Training')\n"
   ],
   "metadata": {
    "collapsed": false,
    "pycharm": {
     "name": "#%%\n",
     "is_executing": true
    }
   }
  },
  {
   "cell_type": "code",
   "execution_count": null,
   "outputs": [],
   "source": [
    "correct = 0\n",
    "total = 0\n",
    "iter_i = 0\n",
    "\n",
    "with torch.no_grad():\n",
    "    for data in dataloader:\n",
    "        images, labels = data\n",
    "        outputs = net(images)\n",
    "\n",
    "        if iter_i == 0:\n",
    "            d = outputs\n",
    "        else:\n",
    "            d = torch.cat((d, outputs), 0)\n",
    "\n",
    "        iter_i += 1"
   ],
   "metadata": {
    "collapsed": false,
    "pycharm": {
     "name": "#%%\n",
     "is_executing": true
    }
   }
  },
  {
   "cell_type": "code",
   "execution_count": null,
   "outputs": [],
   "source": [
    "import pandas as pd\n",
    "import numpy as np\n",
    "import matplotlib.pyplot as plt\n",
    "\n",
    "df = pd.read_csv(\"petfinder-pawpularity-score/train.csv\")\n",
    "\n",
    "plt.scatter(df[\"Pawpularity\"], d.numpy(), alpha=0.4)"
   ],
   "metadata": {
    "collapsed": false,
    "pycharm": {
     "name": "#%%\n",
     "is_executing": true
    }
   }
  }
 ],
 "metadata": {
  "kernelspec": {
   "display_name": "Python 3",
   "language": "python",
   "name": "python3"
  },
  "language_info": {
   "codemirror_mode": {
    "name": "ipython",
    "version": 2
   },
   "file_extension": ".py",
   "mimetype": "text/x-python",
   "name": "python",
   "nbconvert_exporter": "python",
   "pygments_lexer": "ipython2",
   "version": "2.7.6"
  }
 },
 "nbformat": 4,
 "nbformat_minor": 0
}