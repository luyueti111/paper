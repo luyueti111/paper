{
 "cells": [
  {
   "cell_type": "code",
   "execution_count": 154,
   "metadata": {
    "collapsed": true
   },
   "outputs": [
    {
     "name": "stdout",
     "output_type": "stream",
     "text": [
      "cuda:0\n"
     ]
    }
   ],
   "source": [
    "import torch\n",
    "from PetDataset import PetDataset\n",
    "import torchvision\n",
    "from PIL import Image\n",
    "import os\n",
    "import torchvision.transforms as transforms\n",
    "\n",
    "device = torch.device(\"cuda:0\" if torch.cuda.is_available() else \"cpu\")\n",
    "print(device)\n",
    "PSIZE=128"
   ]
  },
  {
   "cell_type": "code",
   "execution_count": 155,
   "outputs": [
    {
     "data": {
      "text/plain": "tensor([0.6300, 0.4200, 0.2800, 0.1500], dtype=torch.float64)"
     },
     "execution_count": 155,
     "metadata": {},
     "output_type": "execute_result"
    }
   ],
   "source": [
    "transform = transforms.Compose(\n",
    "    [transforms.ToTensor(),\n",
    "     transforms.Resize((PSIZE, PSIZE)),\n",
    "     transforms.Normalize((0.5, 0.5, 0.5), (0.5, 0.5, 0.5))])\n",
    "\n",
    "dataset = PetDataset(data_transform=transform)\n",
    "dataloader = torch.utils.data.DataLoader(dataset, batch_size=4)\n",
    "\n",
    "dataiter = iter(dataloader)\n",
    "\n",
    "images, labels = dataiter.next()\n",
    "\n",
    "labels\n"
   ],
   "metadata": {
    "collapsed": false,
    "pycharm": {
     "name": "#%%\n"
    }
   }
  },
  {
   "cell_type": "code",
   "execution_count": 156,
   "outputs": [
    {
     "name": "stdout",
     "output_type": "stream",
     "text": [
      "28\n",
      "14\n",
      "10\n"
     ]
    }
   ],
   "source": [
    "def out_size(h,k, p=0,dd=1,s=1):\n",
    "    return int((h+2*p-dd*(k-1)-1)/s + 1)\n",
    "a=out_size(32, 5)\n",
    "print(a)\n",
    "b=out_size(a, 2, 0, 1, 2)\n",
    "print(b)\n",
    "c=out_size(b, 5)\n",
    "print(c)"
   ],
   "metadata": {
    "collapsed": false,
    "pycharm": {
     "name": "#%%\n"
    }
   }
  },
  {
   "cell_type": "code",
   "execution_count": 157,
   "outputs": [],
   "source": [
    "import torch.nn as nn\n",
    "import torch.nn.functional as F\n",
    "\n",
    "class Net(nn.Module):\n",
    "    def __init__(self):\n",
    "        super(Net, self).__init__()\n",
    "        self.conv1 = nn.Conv2d(3, 16, 5)\n",
    "        self.a = out_size(PSIZE, 5)\n",
    "        self.pool = nn.MaxPool2d(2, 2)\n",
    "        self.b = out_size(self.a, 2, 0, 1, 2)\n",
    "        self.conv2 = nn.Conv2d(16, 16, 5)\n",
    "        self.c = int(out_size(self.b, 5)/1)\n",
    "        self.fc1 = nn.Linear(16 * self.c * self.c, 120)\n",
    "        self.fc2 = nn.Linear(120, 84)\n",
    "        self.fc3 = nn.Linear(84, 20)\n",
    "        self.fc4 = nn.Linear(20, 4)\n",
    "\n",
    "    def forward(self, x):\n",
    "        x = self.pool(F.relu(self.conv1(x)))\n",
    "        x = self.pool(F.relu(self.conv2(x)))\n",
    "        x = x.view(-1, 16 * self.c * self.c)\n",
    "        x = F.relu(self.fc1(x))\n",
    "        x = F.relu(self.fc2(x))\n",
    "        x = torch.tanh(self.fc3(x))\n",
    "        x = self.fc4(x)\n",
    "        return x.view(-1)"
   ],
   "metadata": {
    "collapsed": false,
    "pycharm": {
     "name": "#%%\n"
    }
   }
  },
  {
   "cell_type": "code",
   "execution_count": null,
   "outputs": [
    {
     "name": "stdout",
     "output_type": "stream",
     "text": [
      "[1,   200] loss: 0.052\n",
      "[1,   400] loss: 0.052\n",
      "[1,   600] loss: 0.050\n",
      "[1,   800] loss: 0.049\n",
      "[1,  1000] loss: 0.039\n",
      "[1,  1200] loss: 0.044\n",
      "[1,  1400] loss: 0.049\n",
      "[1,  1600] loss: 0.042\n",
      "[1,  1800] loss: 0.047\n",
      "[1,  2000] loss: 0.040\n",
      "[1,  2200] loss: 0.045\n",
      "[1,  2400] loss: 0.044\n",
      "[2,   200] loss: 0.042\n",
      "[2,   400] loss: 0.050\n",
      "[2,   600] loss: 0.047\n",
      "[2,   800] loss: 0.048\n",
      "[2,  1000] loss: 0.039\n",
      "[2,  1200] loss: 0.043\n"
     ]
    }
   ],
   "source": [
    "import torch.optim as optim\n",
    "net = Net()\n",
    "criterion = nn.MSELoss()\n",
    "# optimizer = optim.SGD(net.parameters(), lr=0.001, momentum=0.5)\n",
    "optimizer = optim.Adam(net.parameters(), lr=0.001, betas=(0.9, 0.999), eps=1e-08, weight_decay=0, amsgrad=False)\n",
    "for epoch in range(2):  # loop over the dataset multiple times\n",
    "\n",
    "    running_loss = 0.0\n",
    "    for i, data in enumerate(dataloader, 0):\n",
    "        # get the inputs; data is a list of [inputs, labels]\n",
    "        inputs, labels = data\n",
    "        # zero the parameter gradients\n",
    "        optimizer.zero_grad()\n",
    "\n",
    "        # forward + backward + optimize\n",
    "        outputs = net(inputs)\n",
    "        loss = criterion(outputs, labels.float())\n",
    "        loss.backward()\n",
    "        optimizer.step()\n",
    "\n",
    "        # print statistics\n",
    "        running_loss += loss.item()\n",
    "        if i % 200 == 199:    # print every 2000 mini-batches\n",
    "            print('[%d, %5d] loss: %.3f' %\n",
    "                  (epoch + 1, i + 1, running_loss / 200))\n",
    "            running_loss = 0.0\n",
    "\n",
    "print('Finished Training')\n"
   ],
   "metadata": {
    "collapsed": false,
    "pycharm": {
     "name": "#%%\n",
     "is_executing": true
    }
   }
  },
  {
   "cell_type": "code",
   "execution_count": null,
   "outputs": [],
   "source": [
    "correct = 0\n",
    "total = 0\n",
    "iter_i = 0\n",
    "\n",
    "with torch.no_grad():\n",
    "    for data in dataloader:\n",
    "        images, labels = data\n",
    "        outputs = net(images)\n",
    "\n",
    "        if iter_i == 0:\n",
    "            d = outputs\n",
    "        else:\n",
    "            d = torch.cat((d, outputs), 0)\n",
    "\n",
    "        iter_i += 1"
   ],
   "metadata": {
    "collapsed": false,
    "pycharm": {
     "name": "#%%\n",
     "is_executing": true
    }
   }
  },
  {
   "cell_type": "code",
   "execution_count": null,
   "outputs": [],
   "source": [
    "import pandas as pd\n",
    "import numpy as np\n",
    "import matplotlib.pyplot as plt\n",
    "\n",
    "df = pd.read_csv(\"petfinder-pawpularity-score/train.csv\")\n",
    "\n",
    "plt.scatter(df[\"Pawpularity\"], d.numpy(), alpha=0.1)"
   ],
   "metadata": {
    "collapsed": false,
    "pycharm": {
     "name": "#%%\n",
     "is_executing": true
    }
   }
  }
 ],
 "metadata": {
  "kernelspec": {
   "display_name": "Python 3",
   "language": "python",
   "name": "python3"
  },
  "language_info": {
   "codemirror_mode": {
    "name": "ipython",
    "version": 2
   },
   "file_extension": ".py",
   "mimetype": "text/x-python",
   "name": "python",
   "nbconvert_exporter": "python",
   "pygments_lexer": "ipython2",
   "version": "2.7.6"
  }
 },
 "nbformat": 4,
 "nbformat_minor": 0
}