{
 "cells": [
  {
   "cell_type": "code",
   "execution_count": 2,
   "metadata": {
    "collapsed": true
   },
   "outputs": [
    {
     "data": {
      "text/plain": "torch.Size([1, 6, 60, 60])"
     },
     "execution_count": 2,
     "metadata": {},
     "output_type": "execute_result"
    }
   ],
   "source": [
    "import torch\n",
    "import torch.nn.functional as F\n",
    "import torch.nn as nn\n",
    "\n",
    "\n",
    "test_tensor = torch.randn(1, 3, 64, 64)\n",
    "f = nn.Conv2d(3, 6, 5)\n",
    "\"\"\"\n",
    "in_channel:　输入数据的通道数，例RGB图片通道数为3；\n",
    "out_channel: 输出数据的通道数，这个根据模型调整；\n",
    "kennel_size: 卷积核大小，可以是int，或tuple；kennel_size=2,意味着卷积大小(2,2)，\n",
    "kennel_size=（2,3），意味着卷积大小（2，3）即非正方形卷积\n",
    "stride: 卷积每次滑动的步长为多少，默认是 1\n",
    "\n",
    "输入 (1, 3, 64, 64)\n",
    "H_out = (64 - 1 * (4 - 1) - 1) + 1\n",
    "\n",
    "输出 (1, 6, h_out, w_out)\n",
    "\"\"\"\n",
    "\n",
    "\n",
    "t = f(test_tensor)\n",
    "t.size()"
   ]
  },
  {
   "cell_type": "code",
   "execution_count": 22,
   "outputs": [
    {
     "data": {
      "text/plain": "torch.Size([1, 6, 4, 4])"
     },
     "execution_count": 22,
     "metadata": {},
     "output_type": "execute_result"
    }
   ],
   "source": [
    "f2 = nn.MaxPool2d(15, 15)\n",
    "t = f2(t)\n",
    "\n",
    "t.size()\n",
    "\n",
    "\"\"\"\n",
    "输入(1, 6, 60, 60)\n",
    "\n",
    "[(60 + 2*padding[0] - dilation[0]*(kernel_size - 1)/stride] + 1\n",
    "\"\"\""
   ],
   "metadata": {
    "collapsed": false,
    "pycharm": {
     "name": "#%%\n"
    }
   }
  },
  {
   "cell_type": "code",
   "execution_count": 12,
   "outputs": [
    {
     "data": {
      "text/plain": "torch.Size([1, 16, 16, 16])"
     },
     "execution_count": 12,
     "metadata": {},
     "output_type": "execute_result"
    }
   ],
   "source": [
    "f3 = nn.Conv2d(6, 16, 5)\n",
    "t = f3(t)\n",
    "\n",
    "t.size()"
   ],
   "metadata": {
    "collapsed": false,
    "pycharm": {
     "name": "#%%\n"
    }
   }
  },
  {
   "cell_type": "code",
   "execution_count": 3,
   "outputs": [
    {
     "data": {
      "text/plain": "tensor([4, 1])"
     },
     "execution_count": 3,
     "metadata": {},
     "output_type": "execute_result"
    }
   ],
   "source": [],
   "metadata": {
    "collapsed": false,
    "pycharm": {
     "name": "#%%\n"
    }
   }
  }
 ],
 "metadata": {
  "kernelspec": {
   "display_name": "Python 3",
   "language": "python",
   "name": "python3"
  },
  "language_info": {
   "codemirror_mode": {
    "name": "ipython",
    "version": 2
   },
   "file_extension": ".py",
   "mimetype": "text/x-python",
   "name": "python",
   "nbconvert_exporter": "python",
   "pygments_lexer": "ipython2",
   "version": "2.7.6"
  }
 },
 "nbformat": 4,
 "nbformat_minor": 0
}