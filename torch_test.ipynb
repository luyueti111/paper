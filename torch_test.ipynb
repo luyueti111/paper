{
 "cells": [
  {
   "cell_type": "code",
   "execution_count": 21,
   "metadata": {
    "collapsed": true
   },
   "outputs": [
    {
     "name": "stdout",
     "output_type": "stream",
     "text": [
      "tensor([[[[-0.0293, -0.9888, -0.3750,  ...,  0.0116,  0.5266,  0.5532],\n",
      "          [ 0.7905, -1.7891,  0.4706,  ...,  0.6287,  1.1037, -0.5430],\n",
      "          [ 0.6989, -0.1725,  0.2086,  ..., -0.2076,  0.3317,  0.1139],\n",
      "          ...,\n",
      "          [ 0.0442,  1.6809, -1.9335,  ..., -0.8104,  0.1512, -1.5106],\n",
      "          [-0.4125, -0.9067,  0.5324,  ...,  1.8788, -0.5565,  0.1813],\n",
      "          [-0.1334, -0.7772,  0.1279,  ...,  0.8290, -0.5911, -0.9342]],\n",
      "\n",
      "         [[ 0.4426, -1.7322, -1.0146,  ..., -0.2054, -0.1541, -1.9600],\n",
      "          [-0.4513,  0.3772,  1.6260,  ...,  0.0825,  0.3793,  1.5727],\n",
      "          [ 0.1539, -1.1491, -0.0865,  ..., -0.8712, -1.6659,  1.2482],\n",
      "          ...,\n",
      "          [ 1.8156,  0.6724,  0.9237,  ..., -0.7863, -1.7348,  0.0237],\n",
      "          [-1.1253,  0.1958,  1.4150,  ...,  0.0704,  0.2638, -1.4270],\n",
      "          [ 2.0125, -1.1312, -1.3626,  ...,  0.8145, -1.2947, -0.4302]],\n",
      "\n",
      "         [[ 0.5090,  0.9146,  0.0393,  ...,  1.3980, -1.1053,  0.9155],\n",
      "          [ 0.9687, -0.0656, -0.3957,  ..., -0.5866,  0.0109,  0.3678],\n",
      "          [ 0.4050, -0.2184,  2.5619,  ..., -0.2551, -0.4496,  1.0015],\n",
      "          ...,\n",
      "          [ 1.1572,  1.3492,  0.6059,  ..., -1.1362,  0.8029,  1.0556],\n",
      "          [ 0.7441, -0.6651,  0.4489,  ...,  0.1980, -0.1679, -0.1207],\n",
      "          [-0.7075,  0.2400,  1.1191,  ...,  0.0636,  0.4270,  1.1929]]]])\n",
      "tensor([[[[ 0,  0,  0,  ...,  0,  0,  0],\n",
      "          [ 0, -1,  0,  ...,  0,  1,  0],\n",
      "          [ 0,  0,  0,  ...,  0,  0,  0],\n",
      "          ...,\n",
      "          [ 0,  1, -1,  ...,  0,  0, -1],\n",
      "          [ 0,  0,  0,  ...,  1,  0,  0],\n",
      "          [ 0,  0,  0,  ...,  0,  0,  0]],\n",
      "\n",
      "         [[ 0, -1, -1,  ...,  0,  0, -1],\n",
      "          [ 0,  0,  1,  ...,  0,  0,  1],\n",
      "          [ 0, -1,  0,  ...,  0, -1,  1],\n",
      "          ...,\n",
      "          [ 1,  0,  0,  ...,  0, -1,  0],\n",
      "          [-1,  0,  1,  ...,  0,  0, -1],\n",
      "          [ 2, -1, -1,  ...,  0, -1,  0]],\n",
      "\n",
      "         [[ 0,  0,  0,  ...,  1, -1,  0],\n",
      "          [ 0,  0,  0,  ...,  0,  0,  0],\n",
      "          [ 0,  0,  2,  ...,  0,  0,  1],\n",
      "          ...,\n",
      "          [ 1,  1,  0,  ..., -1,  0,  1],\n",
      "          [ 0,  0,  0,  ...,  0,  0,  0],\n",
      "          [ 0,  0,  1,  ...,  0,  0,  1]]]], dtype=torch.int32)\n"
     ]
    }
   ],
   "source": [
    "import torch\n",
    "import torch.nn.functional as F\n",
    "import torch.nn as nn\n",
    "\n",
    "\n",
    "test_tensor = torch.randn(1, 3, 64, 64)\n",
    "f = nn.Conv2d(3, 6, 5)\n",
    "\"\"\"\n",
    "in_channel:　输入数据的通道数，例RGB图片通道数为3；\n",
    "out_channel: 输出数据的通道数，这个根据模型调整；\n",
    "kennel_size: 卷积核大小，可以是int，或tuple；kennel_size=2,意味着卷积大小(2,2)，\n",
    "kennel_size=（2,3），意味着卷积大小（2，3）即非正方形卷积\n",
    "stride: 卷积每次滑动的步长为多少，默认是 1\n",
    "\n",
    "输入 (1, 3, 64, 64)\n",
    "H_out = (64 - 1 * (4 - 1) - 1) + 1\n",
    "\n",
    "输出 (1, 6, h_out, w_out)\n",
    "\"\"\"\n",
    "\n",
    "\n",
    "t = f(test_tensor)\n",
    "t.size()\n",
    "print(test_tensor)\n",
    "print(test_tensor.int())"
   ]
  },
  {
   "cell_type": "code",
   "execution_count": 22,
   "outputs": [
    {
     "data": {
      "text/plain": "'\\n输入(1, 6, 60, 60)\\n\\n[(60 + 2*padding[0] - dilation[0]*(kernel_size - 1)/stride] + 1\\n'"
     },
     "execution_count": 22,
     "metadata": {},
     "output_type": "execute_result"
    }
   ],
   "source": [
    "f2 = nn.MaxPool2d(15, 15)\n",
    "t = f2(t)\n",
    "\n",
    "t.size()\n",
    "\n",
    "\"\"\"\n",
    "输入(1, 6, 60, 60)\n",
    "\n",
    "[(60 + 2*padding[0] - dilation[0]*(kernel_size - 1)/stride] + 1\n",
    "\"\"\""
   ],
   "metadata": {
    "collapsed": false,
    "pycharm": {
     "name": "#%%\n"
    }
   }
  },
  {
   "cell_type": "code",
   "execution_count": 23,
   "outputs": [
    {
     "ename": "RuntimeError",
     "evalue": "Calculated padded input size per channel: (4 x 4). Kernel size: (5 x 5). Kernel size can't be greater than actual input size",
     "output_type": "error",
     "traceback": [
      "\u001B[1;31m---------------------------------------------------------------------------\u001B[0m",
      "\u001B[1;31mRuntimeError\u001B[0m                              Traceback (most recent call last)",
      "\u001B[1;32m~\\AppData\\Local\\Temp/ipykernel_17584/2205913017.py\u001B[0m in \u001B[0;36m<module>\u001B[1;34m\u001B[0m\n\u001B[0;32m      1\u001B[0m \u001B[0mf3\u001B[0m \u001B[1;33m=\u001B[0m \u001B[0mnn\u001B[0m\u001B[1;33m.\u001B[0m\u001B[0mConv2d\u001B[0m\u001B[1;33m(\u001B[0m\u001B[1;36m6\u001B[0m\u001B[1;33m,\u001B[0m \u001B[1;36m16\u001B[0m\u001B[1;33m,\u001B[0m \u001B[1;36m5\u001B[0m\u001B[1;33m)\u001B[0m\u001B[1;33m\u001B[0m\u001B[1;33m\u001B[0m\u001B[0m\n\u001B[1;32m----> 2\u001B[1;33m \u001B[0mt\u001B[0m \u001B[1;33m=\u001B[0m \u001B[0mf3\u001B[0m\u001B[1;33m(\u001B[0m\u001B[0mt\u001B[0m\u001B[1;33m)\u001B[0m\u001B[1;33m\u001B[0m\u001B[1;33m\u001B[0m\u001B[0m\n\u001B[0m\u001B[0;32m      3\u001B[0m \u001B[1;33m\u001B[0m\u001B[0m\n\u001B[0;32m      4\u001B[0m \u001B[0mt\u001B[0m\u001B[1;33m.\u001B[0m\u001B[0msize\u001B[0m\u001B[1;33m(\u001B[0m\u001B[1;33m)\u001B[0m\u001B[1;33m\u001B[0m\u001B[1;33m\u001B[0m\u001B[0m\n",
      "\u001B[1;32mc:\\users\\luyueti\\appdata\\local\\programs\\python\\python38\\lib\\site-packages\\torch\\nn\\modules\\module.py\u001B[0m in \u001B[0;36m_call_impl\u001B[1;34m(self, *input, **kwargs)\u001B[0m\n\u001B[0;32m   1049\u001B[0m         if not (self._backward_hooks or self._forward_hooks or self._forward_pre_hooks or _global_backward_hooks\n\u001B[0;32m   1050\u001B[0m                 or _global_forward_hooks or _global_forward_pre_hooks):\n\u001B[1;32m-> 1051\u001B[1;33m             \u001B[1;32mreturn\u001B[0m \u001B[0mforward_call\u001B[0m\u001B[1;33m(\u001B[0m\u001B[1;33m*\u001B[0m\u001B[0minput\u001B[0m\u001B[1;33m,\u001B[0m \u001B[1;33m**\u001B[0m\u001B[0mkwargs\u001B[0m\u001B[1;33m)\u001B[0m\u001B[1;33m\u001B[0m\u001B[1;33m\u001B[0m\u001B[0m\n\u001B[0m\u001B[0;32m   1052\u001B[0m         \u001B[1;31m# Do not call functions when jit is used\u001B[0m\u001B[1;33m\u001B[0m\u001B[1;33m\u001B[0m\u001B[1;33m\u001B[0m\u001B[0m\n\u001B[0;32m   1053\u001B[0m         \u001B[0mfull_backward_hooks\u001B[0m\u001B[1;33m,\u001B[0m \u001B[0mnon_full_backward_hooks\u001B[0m \u001B[1;33m=\u001B[0m \u001B[1;33m[\u001B[0m\u001B[1;33m]\u001B[0m\u001B[1;33m,\u001B[0m \u001B[1;33m[\u001B[0m\u001B[1;33m]\u001B[0m\u001B[1;33m\u001B[0m\u001B[1;33m\u001B[0m\u001B[0m\n",
      "\u001B[1;32mc:\\users\\luyueti\\appdata\\local\\programs\\python\\python38\\lib\\site-packages\\torch\\nn\\modules\\conv.py\u001B[0m in \u001B[0;36mforward\u001B[1;34m(self, input)\u001B[0m\n\u001B[0;32m    441\u001B[0m \u001B[1;33m\u001B[0m\u001B[0m\n\u001B[0;32m    442\u001B[0m     \u001B[1;32mdef\u001B[0m \u001B[0mforward\u001B[0m\u001B[1;33m(\u001B[0m\u001B[0mself\u001B[0m\u001B[1;33m,\u001B[0m \u001B[0minput\u001B[0m\u001B[1;33m:\u001B[0m \u001B[0mTensor\u001B[0m\u001B[1;33m)\u001B[0m \u001B[1;33m->\u001B[0m \u001B[0mTensor\u001B[0m\u001B[1;33m:\u001B[0m\u001B[1;33m\u001B[0m\u001B[1;33m\u001B[0m\u001B[0m\n\u001B[1;32m--> 443\u001B[1;33m         \u001B[1;32mreturn\u001B[0m \u001B[0mself\u001B[0m\u001B[1;33m.\u001B[0m\u001B[0m_conv_forward\u001B[0m\u001B[1;33m(\u001B[0m\u001B[0minput\u001B[0m\u001B[1;33m,\u001B[0m \u001B[0mself\u001B[0m\u001B[1;33m.\u001B[0m\u001B[0mweight\u001B[0m\u001B[1;33m,\u001B[0m \u001B[0mself\u001B[0m\u001B[1;33m.\u001B[0m\u001B[0mbias\u001B[0m\u001B[1;33m)\u001B[0m\u001B[1;33m\u001B[0m\u001B[1;33m\u001B[0m\u001B[0m\n\u001B[0m\u001B[0;32m    444\u001B[0m \u001B[1;33m\u001B[0m\u001B[0m\n\u001B[0;32m    445\u001B[0m \u001B[1;32mclass\u001B[0m \u001B[0mConv3d\u001B[0m\u001B[1;33m(\u001B[0m\u001B[0m_ConvNd\u001B[0m\u001B[1;33m)\u001B[0m\u001B[1;33m:\u001B[0m\u001B[1;33m\u001B[0m\u001B[1;33m\u001B[0m\u001B[0m\n",
      "\u001B[1;32mc:\\users\\luyueti\\appdata\\local\\programs\\python\\python38\\lib\\site-packages\\torch\\nn\\modules\\conv.py\u001B[0m in \u001B[0;36m_conv_forward\u001B[1;34m(self, input, weight, bias)\u001B[0m\n\u001B[0;32m    437\u001B[0m                             \u001B[0mweight\u001B[0m\u001B[1;33m,\u001B[0m \u001B[0mbias\u001B[0m\u001B[1;33m,\u001B[0m \u001B[0mself\u001B[0m\u001B[1;33m.\u001B[0m\u001B[0mstride\u001B[0m\u001B[1;33m,\u001B[0m\u001B[1;33m\u001B[0m\u001B[1;33m\u001B[0m\u001B[0m\n\u001B[0;32m    438\u001B[0m                             _pair(0), self.dilation, self.groups)\n\u001B[1;32m--> 439\u001B[1;33m         return F.conv2d(input, weight, bias, self.stride,\n\u001B[0m\u001B[0;32m    440\u001B[0m                         self.padding, self.dilation, self.groups)\n\u001B[0;32m    441\u001B[0m \u001B[1;33m\u001B[0m\u001B[0m\n",
      "\u001B[1;31mRuntimeError\u001B[0m: Calculated padded input size per channel: (4 x 4). Kernel size: (5 x 5). Kernel size can't be greater than actual input size"
     ]
    }
   ],
   "source": [
    "f3 = nn.Conv2d(6, 16, 5)\n",
    "t = f3(t)\n",
    "\n",
    "t.size()"
   ],
   "metadata": {
    "collapsed": false,
    "pycharm": {
     "name": "#%%\n"
    }
   }
  },
  {
   "cell_type": "code",
   "execution_count": null,
   "outputs": [],
   "source": [
    "int(f3)"
   ],
   "metadata": {
    "collapsed": false,
    "pycharm": {
     "name": "#%%\n"
    }
   }
  }
 ],
 "metadata": {
  "kernelspec": {
   "display_name": "Python 3",
   "language": "python",
   "name": "python3"
  },
  "language_info": {
   "codemirror_mode": {
    "name": "ipython",
    "version": 2
   },
   "file_extension": ".py",
   "mimetype": "text/x-python",
   "name": "python",
   "nbconvert_exporter": "python",
   "pygments_lexer": "ipython2",
   "version": "2.7.6"
  }
 },
 "nbformat": 4,
 "nbformat_minor": 0
}